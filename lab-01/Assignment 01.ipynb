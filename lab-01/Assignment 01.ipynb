{
 "cells": [
  {
   "cell_type": "markdown",
   "id": "7f0b0438-ec27-4364-aa5a-ad2180950e32",
   "metadata": {},
   "source": [
    "# Assignment 1\n",
    "## Name: Abdulrahman Khalid Al-Muzaini\n",
    "## ID: 441004887"
   ]
  },
  {
   "cell_type": "markdown",
   "id": "b52230dd-c987-404d-ae9d-922e07546289",
   "metadata": {},
   "source": [
    "### Q1:\n",
    "Write a Python program to find the indices of sorted elements of this list [10,5,8,,3,2,1]\n",
    "- Use numpy module and the function (argsort)"
   ]
  },
  {
   "cell_type": "code",
   "execution_count": 1,
   "id": "24898b18-9587-4060-aa69-2b8f1538dbc5",
   "metadata": {},
   "outputs": [],
   "source": [
    "import numpy as np"
   ]
  },
  {
   "cell_type": "code",
   "execution_count": 2,
   "id": "ba96d38d-fe6b-403d-ab24-774015b49285",
   "metadata": {},
   "outputs": [
    {
     "name": "stdout",
     "output_type": "stream",
     "text": [
      "the list given: [10  5  8  3  2  1]\n"
     ]
    }
   ],
   "source": [
    "Q1 = np.array([10,5,8,3,2,1])\n",
    "print(f\"the list given: {Q1}\")"
   ]
  },
  {
   "cell_type": "code",
   "execution_count": 3,
   "id": "b85245f6-4d67-41f3-b60a-c35745abbbe7",
   "metadata": {},
   "outputs": [
    {
     "name": "stdout",
     "output_type": "stream",
     "text": [
      "the answer: [5 4 3 1 2 0]\n"
     ]
    }
   ],
   "source": [
    "A1 = np.argsort(Q1)\n",
    "print(f\"the answer: {A1}\")"
   ]
  },
  {
   "cell_type": "markdown",
   "id": "6192889c-5dd4-4ff4-b522-653eea10b8b2",
   "metadata": {},
   "source": [
    "### Q2\n",
    "Write a Python program to split a string of words separated by spaces into two lists.\n",
    "- Use the following sentences to test your code \"Python is a high-level, general-purpose programming language. Its design philosophy emphasizes code readability with the use of significant indentation.\"\n",
    "- You might use the function split from re"
   ]
  },
  {
   "cell_type": "code",
   "execution_count": 4,
   "id": "eadca187-c82d-42b3-928f-83f0198fb2f6",
   "metadata": {},
   "outputs": [
    {
     "name": "stdout",
     "output_type": "stream",
     "text": [
      "the given sentence:\n",
      "Python is a high-level, general-purpose programming language. Its design philosophy emphasizes code readability with the use of significant indentation.\n",
      "\n",
      "the two lists: ['Python is a high-level, general-purpose programming language. Its design philosophy emphasizes code ', 'adability with the use of significant indentation.']\n"
     ]
    }
   ],
   "source": [
    "Q2 = \"Python is a high-level, general-purpose programming language. Its design philosophy emphasizes code readability with the use of significant indentation.\"\n",
    "print(f\"the given sentence:\\n{Q2}\\n\")\n",
    "\n",
    "A2 = Q2.split('re',2)\n",
    "print(f\"the two lists: {A2}\")"
   ]
  },
  {
   "cell_type": "markdown",
   "id": "33d34cf3-13c3-49c6-b32a-7d4cab29877b",
   "metadata": {},
   "source": [
    "### Q3\n",
    "Write a Python program to generate a random n numbers from a given list."
   ]
  },
  {
   "cell_type": "code",
   "execution_count": 7,
   "id": "b4a54055-2b97-4348-904d-5c91e16b3cc7",
   "metadata": {},
   "outputs": [
    {
     "name": "stdout",
     "output_type": "stream",
     "text": [
      "please enter given list elements, press enter when finished:\n"
     ]
    },
    {
     "name": "stdin",
     "output_type": "stream",
     "text": [
      " 3\n",
      " 2\n",
      " 4\n",
      " \n"
     ]
    },
    {
     "name": "stdout",
     "output_type": "stream",
     "text": [
      "the given list: [3, 2, 4]\n",
      "List0: [94 57 79]\n",
      "List1: [ 2 40]\n",
      "List2: [ 6 33 63 30]\n"
     ]
    }
   ],
   "source": [
    "givenList = []\n",
    "print(\"please enter given list elements, press enter when finished:\")\n",
    "scan = 0\n",
    "while True:\n",
    "    u = input()\n",
    "    if u == \"\":\n",
    "        break\n",
    "    if u.isnumeric():\n",
    "        givenList.append(int(u))\n",
    "    else:\n",
    "        print(\"input must be either an integer or an empty string\")\n",
    "print(f\"the given list: {givenList}\")\n",
    "\n",
    "for n in range(len(givenList)):\n",
    "    lst = np.random.randint(100, size=(givenList[n]))\n",
    "    print(f\"List{n}: {lst}\")"
   ]
  }
 ],
 "metadata": {
  "kernelspec": {
   "display_name": "Python 3 (ipykernel)",
   "language": "python",
   "name": "python3"
  },
  "language_info": {
   "codemirror_mode": {
    "name": "ipython",
    "version": 3
   },
   "file_extension": ".py",
   "mimetype": "text/x-python",
   "name": "python",
   "nbconvert_exporter": "python",
   "pygments_lexer": "ipython3",
   "version": "3.9.12"
  }
 },
 "nbformat": 4,
 "nbformat_minor": 5
}
